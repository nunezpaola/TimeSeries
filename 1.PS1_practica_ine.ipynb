{
 "cells": [
  {
   "cell_type": "markdown",
   "id": "e2d82974",
   "metadata": {},
   "source": [
    "Criterios de informacion\n",
    "\n",
    "LR: buenas propiedades sintoticas, bueo para testear modelos\n",
    "FPE y AIC: buenos small sample properties, bueno para forecast\n",
    "\n",
    "Hacer Var Lag Order Selection Criteria, sumar p-values y estadisticos\n",
    "\n",
    "Lag exclusion tests\n",
    "\n",
    "Granger causality tests \n",
    "\n",
    "Cholesky descomp. Test de varuas formas de ordenar y elegir alguna alternativa. \n",
    "\n",
    "Variance decomposition"
   ]
  }
 ],
 "metadata": {
  "language_info": {
   "name": "python"
  }
 },
 "nbformat": 4,
 "nbformat_minor": 5
}
